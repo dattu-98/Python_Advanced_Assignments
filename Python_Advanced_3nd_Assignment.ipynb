{
 "cells": [
  {
   "cell_type": "markdown",
   "metadata": {},
   "source": [
    "1) What is the concept of an abstract superclass?\n"
   ]
  },
  {
   "cell_type": "code",
   "execution_count": 1,
   "metadata": {},
   "outputs": [],
   "source": [
    "#An abstract class can be considered as a blueprint for other classes. There are many child classes with in the superclass.\n",
    "#abc-abstract base class\n",
    "from abc import ABC, abstractclassmethod"
   ]
  },
  {
   "cell_type": "code",
   "execution_count": 2,
   "metadata": {},
   "outputs": [
    {
     "name": "stdout",
     "output_type": "stream",
     "text": [
      "Total strength: 1500\n",
      "Total strength: 10000\n"
     ]
    }
   ],
   "source": [
    "import abc\n",
    "class superclass:\n",
    "    def mnit(self):\n",
    "        print(\"Total strength: 10000\")\n",
    "class childclass(superclass):\n",
    "    def cse(self):\n",
    "        print(\"Total strength: 1500\")\n",
    "child=childclass()\n",
    "child.cse()\n",
    "child.mnit()"
   ]
  },
  {
   "cell_type": "code",
   "execution_count": 3,
   "metadata": {},
   "outputs": [
    {
     "name": "stdout",
     "output_type": "stream",
     "text": [
      "Total strength of CSE: 1500\n",
      "Total strength of Meta: 1000\n"
     ]
    }
   ],
   "source": [
    "from abc import ABC,abstractmethod\n",
    "class superclass(ABC):\n",
    "    @abstractmethod\n",
    "    def strength(self):\n",
    "        pass\n",
    "class cse(superclass):\n",
    "    def strength(self):\n",
    "        print(\"Total strength of CSE: 1500\")\n",
    "class meta(superclass):\n",
    "    def strength(self):\n",
    "        print(\"Total strength of Meta: 1000\")\n",
    "CSE=cse()\n",
    "CSE.strength()\n",
    "metaa=meta()\n",
    "metaa.strength()"
   ]
  },
  {
   "cell_type": "markdown",
   "metadata": {},
   "source": [
    "2) What happens when a class statement's top level contains a basic assignment statement?\n"
   ]
  },
  {
   "cell_type": "code",
   "execution_count": 4,
   "metadata": {},
   "outputs": [],
   "source": [
    "class abb:\n",
    "    x=5\n",
    "    def __init__(self,price):\n",
    "        self.price=price\n",
    "class bottom(abb):    \n",
    "    def news(news_articles):\n",
    "        news_articles=\"http://\"\n",
    "        print(news_articles)"
   ]
  },
  {
   "cell_type": "code",
   "execution_count": 5,
   "metadata": {},
   "outputs": [],
   "source": [
    "bottom_obj=bottom(1500)"
   ]
  },
  {
   "cell_type": "code",
   "execution_count": 6,
   "metadata": {},
   "outputs": [
    {
     "data": {
      "text/plain": [
       "5"
      ]
     },
     "execution_count": 6,
     "metadata": {},
     "output_type": "execute_result"
    }
   ],
   "source": [
    "bottom_obj.x"
   ]
  },
  {
   "cell_type": "code",
   "execution_count": 7,
   "metadata": {},
   "outputs": [
    {
     "name": "stdout",
     "output_type": "stream",
     "text": [
      "http://\n"
     ]
    }
   ],
   "source": [
    "bottom_obj.news()"
   ]
  },
  {
   "cell_type": "code",
   "execution_count": 8,
   "metadata": {},
   "outputs": [
    {
     "data": {
      "text/plain": [
       "1500"
      ]
     },
     "execution_count": 8,
     "metadata": {},
     "output_type": "execute_result"
    }
   ],
   "source": [
    "bottom_obj.price"
   ]
  },
  {
   "cell_type": "markdown",
   "metadata": {},
   "source": [
    "3) Why does a class need to manually call a superclass's __init__ method?\n"
   ]
  },
  {
   "cell_type": "code",
   "execution_count": 9,
   "metadata": {},
   "outputs": [],
   "source": [
    "# with the help of super().__init__ wecan reduce the amount of code by mentioning the superclass\n",
    "# classes in the super class gets inherited into sub class\n",
    "class Rectangle:\n",
    "    def __init__(self, length, width):\n",
    "        self.length = length\n",
    "        self.width = width\n",
    "\n",
    "    def area(self):\n",
    "        return self.length * self.width\n",
    "\n",
    "    def perimeter(self):\n",
    "        return 2 * self.length + 2 * self.width\n",
    "    \n",
    "class Square(Rectangle):\n",
    "    def __init__(self, length):\n",
    "        super().__init__(length, length)"
   ]
  },
  {
   "cell_type": "code",
   "execution_count": 10,
   "metadata": {},
   "outputs": [
    {
     "data": {
      "text/plain": [
       "25"
      ]
     },
     "execution_count": 10,
     "metadata": {},
     "output_type": "execute_result"
    }
   ],
   "source": [
    "square=Square(5)\n",
    "square.area()"
   ]
  },
  {
   "cell_type": "code",
   "execution_count": 11,
   "metadata": {},
   "outputs": [],
   "source": [
    "rectangle=Rectangle(5,10)"
   ]
  },
  {
   "cell_type": "code",
   "execution_count": 12,
   "metadata": {},
   "outputs": [
    {
     "data": {
      "text/plain": [
       "50"
      ]
     },
     "execution_count": 12,
     "metadata": {},
     "output_type": "execute_result"
    }
   ],
   "source": [
    "rectangle.area()"
   ]
  },
  {
   "cell_type": "markdown",
   "metadata": {},
   "source": [
    "4) How can you augment, instead of completely replacing, an inherited method?\n"
   ]
  },
  {
   "cell_type": "code",
   "execution_count": 13,
   "metadata": {},
   "outputs": [],
   "source": [
    "class First:\n",
    "    def one(self):\n",
    "        strength=85\n",
    "        print(strength)\n",
    "class Firstmodified(First):\n",
    "    def one(self):\n",
    "        strength=95\n",
    "        First.one(self)"
   ]
  },
  {
   "cell_type": "code",
   "execution_count": 14,
   "metadata": {},
   "outputs": [],
   "source": [
    "first=Firstmodified()"
   ]
  },
  {
   "cell_type": "code",
   "execution_count": 15,
   "metadata": {},
   "outputs": [
    {
     "name": "stdout",
     "output_type": "stream",
     "text": [
      "85\n"
     ]
    }
   ],
   "source": [
    "first.one()"
   ]
  },
  {
   "cell_type": "markdown",
   "metadata": {},
   "source": [
    "5) How is the local scope of a class different from that of a function?\n"
   ]
  },
  {
   "cell_type": "code",
   "execution_count": 16,
   "metadata": {},
   "outputs": [],
   "source": [
    "#Local variables are declared inside the function \n",
    "# Global variables are declared outside the function.\n",
    "tot_stud_in_iits=25000\n",
    "class mnit:\n",
    "    total_students=8500\n",
    "    def __init__(self,total_students):\n",
    "        self.total_students=total_students\n",
    "class CSE:\n",
    "    def cse():\n",
    "        cse_strength=1200\n",
    "        print(\"Cse strength in mnit:\",cse_strength)\n",
    "        print(\"total students in india:\",tot_stud_in_iits)"
   ]
  },
  {
   "cell_type": "code",
   "execution_count": 17,
   "metadata": {},
   "outputs": [],
   "source": [
    "mnit_obj=mnit(10000)"
   ]
  },
  {
   "cell_type": "code",
   "execution_count": 18,
   "metadata": {},
   "outputs": [
    {
     "data": {
      "text/plain": [
       "10000"
      ]
     },
     "execution_count": 18,
     "metadata": {},
     "output_type": "execute_result"
    }
   ],
   "source": [
    "mnit_obj.total_students"
   ]
  },
  {
   "cell_type": "code",
   "execution_count": 19,
   "metadata": {},
   "outputs": [],
   "source": [
    "cse_obj=CSE"
   ]
  },
  {
   "cell_type": "code",
   "execution_count": 20,
   "metadata": {},
   "outputs": [
    {
     "name": "stdout",
     "output_type": "stream",
     "text": [
      "Cse strength in mnit: 1200\n",
      "total students in india: 25000\n"
     ]
    }
   ],
   "source": [
    "#Total students in india can be accessed in both inside the function and outside the function\n",
    "cse_obj.cse()"
   ]
  },
  {
   "cell_type": "code",
   "execution_count": 21,
   "metadata": {},
   "outputs": [
    {
     "data": {
      "text/plain": [
       "25000"
      ]
     },
     "execution_count": 21,
     "metadata": {},
     "output_type": "execute_result"
    }
   ],
   "source": [
    "tot_stud_in_iits"
   ]
  }
 ],
 "metadata": {
  "kernelspec": {
   "display_name": "Python 3",
   "language": "python",
   "name": "python3"
  },
  "language_info": {
   "codemirror_mode": {
    "name": "ipython",
    "version": 3
   },
   "file_extension": ".py",
   "mimetype": "text/x-python",
   "name": "python",
   "nbconvert_exporter": "python",
   "pygments_lexer": "ipython3",
   "version": "3.8.3"
  }
 },
 "nbformat": 4,
 "nbformat_minor": 4
}
