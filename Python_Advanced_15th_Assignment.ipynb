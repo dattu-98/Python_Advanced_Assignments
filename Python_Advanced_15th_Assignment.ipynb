{
 "cells": [
  {
   "cell_type": "markdown",
   "metadata": {},
   "source": [
    "1) What are the new features added in Python 3.9 version?\n"
   ]
  },
  {
   "cell_type": "markdown",
   "metadata": {},
   "source": [
    "* Calcualting Time Zones\n",
    "* Merging and updating dictionaries effectively\n",
    "* Use of Decorators based on expressions\n",
    "* Combining type hints and other annotations"
   ]
  },
  {
   "cell_type": "markdown",
   "metadata": {},
   "source": [
    "2) What is monkey patching in Python?"
   ]
  },
  {
   "cell_type": "code",
   "execution_count": 1,
   "metadata": {},
   "outputs": [],
   "source": [
    "#Monkey patching refers to dynamic modifications of a class or module in python.\n",
    "#i.e, we can change the behaviour of code at run time"
   ]
  },
  {
   "cell_type": "markdown",
   "metadata": {},
   "source": [
    "3) What is the difference between a shallow copy and deep copy?\n"
   ]
  },
  {
   "cell_type": "code",
   "execution_count": 6,
   "metadata": {},
   "outputs": [],
   "source": [
    "# The assignment operator do not copy objects, they create bindings between a target and object\n",
    "import copy\n",
    "x=[2,3,4,5,[6,7]]  \n",
    "y=copy.copy(x) #Shallow copy of x\n",
    "z=copy.deepcopy(x) #Deepcopy of x #Change in z is not refleted to x"
   ]
  },
  {
   "cell_type": "code",
   "execution_count": 3,
   "metadata": {},
   "outputs": [],
   "source": [
    "#A shallow copy creates a new object which stores the reference of the original elements.\n",
    "#A deep copy creates a new object and recursively adds the copies of nested objects present in the original elements"
   ]
  },
  {
   "cell_type": "code",
   "execution_count": 4,
   "metadata": {},
   "outputs": [
    {
     "name": "stdout",
     "output_type": "stream",
     "text": [
      "[2, 3, 4, 5, [6, 7]]\n",
      "['a', 3, 4, 5, [6, 7]]\n"
     ]
    }
   ],
   "source": [
    "y[0]='a'\n",
    "print(x)\n",
    "print(y)"
   ]
  },
  {
   "cell_type": "markdown",
   "metadata": {},
   "source": [
    "### Shallow Copy"
   ]
  },
  {
   "cell_type": "code",
   "execution_count": 5,
   "metadata": {},
   "outputs": [
    {
     "name": "stdout",
     "output_type": "stream",
     "text": [
      "[2, 3, 4, 5, [['b'], 7]]\n",
      "['a', 3, 4, 5, [['b'], 7]]\n"
     ]
    }
   ],
   "source": [
    "y[4][0]=['b']\n",
    "print(x)\n",
    "print(y)"
   ]
  },
  {
   "cell_type": "markdown",
   "metadata": {},
   "source": [
    "### Deep Copy"
   ]
  },
  {
   "cell_type": "code",
   "execution_count": 7,
   "metadata": {},
   "outputs": [
    {
     "name": "stdout",
     "output_type": "stream",
     "text": [
      "[2, 3, 4, 5, [6, 7]]\n",
      "[2, 3, 4, 5, [['b'], 7]]\n"
     ]
    }
   ],
   "source": [
    "z[4][0]=['b']\n",
    "print(x)\n",
    "print(z)"
   ]
  },
  {
   "cell_type": "markdown",
   "metadata": {},
   "source": [
    "4) What is the maximum possible length of an identifier?\n"
   ]
  },
  {
   "cell_type": "code",
   "execution_count": 8,
   "metadata": {},
   "outputs": [],
   "source": [
    "#79 Characters is the maximum possible length of identifier in python"
   ]
  },
  {
   "cell_type": "markdown",
   "metadata": {},
   "source": [
    "5) What is generator comprehension?\n"
   ]
  },
  {
   "cell_type": "code",
   "execution_count": 9,
   "metadata": {},
   "outputs": [],
   "source": [
    "#Generator Comprehensions is about instead of creating a list and keeping the whole sequence in the memory, the generator generates the next element in demand.\n",
    "#Generator yields only one item at a time and generates on demand\n",
    "#Generator comprehension is much more efficient than lists."
   ]
  },
  {
   "cell_type": "code",
   "execution_count": null,
   "metadata": {},
   "outputs": [],
   "source": []
  }
 ],
 "metadata": {
  "kernelspec": {
   "display_name": "Python 3",
   "language": "python",
   "name": "python3"
  },
  "language_info": {
   "codemirror_mode": {
    "name": "ipython",
    "version": 3
   },
   "file_extension": ".py",
   "mimetype": "text/x-python",
   "name": "python",
   "nbconvert_exporter": "python",
   "pygments_lexer": "ipython3",
   "version": "3.8.3"
  }
 },
 "nbformat": 4,
 "nbformat_minor": 4
}
