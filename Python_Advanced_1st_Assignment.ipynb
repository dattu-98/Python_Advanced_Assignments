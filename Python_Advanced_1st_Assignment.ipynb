{
 "cells": [
  {
   "cell_type": "markdown",
   "metadata": {},
   "source": [
    "1) What is the purpose of Python's OOP?"
   ]
  },
  {
   "cell_type": "code",
   "execution_count": 1,
   "metadata": {},
   "outputs": [
    {
     "data": {
      "text/plain": [
       "'OOPS make programs more reusable and prevent us from repeating the code. Classes can be defined once and used several times'"
      ]
     },
     "execution_count": 1,
     "metadata": {},
     "output_type": "execute_result"
    }
   ],
   "source": [
    "\"\"\"OOPS make programs more reusable and prevent us from repeating the code. Classes can be defined once and used several times\"\"\""
   ]
  },
  {
   "cell_type": "markdown",
   "metadata": {},
   "source": [
    "2)  Where does an inheritance search look for an attribute?\n"
   ]
  },
  {
   "cell_type": "code",
   "execution_count": 2,
   "metadata": {},
   "outputs": [
    {
     "data": {
      "text/plain": [
       "'Inheritance search in Parent Class to look an attribute. This make us use of several classes within the Parent Class. '"
      ]
     },
     "execution_count": 2,
     "metadata": {},
     "output_type": "execute_result"
    }
   ],
   "source": [
    "\"\"\"Inheritance search in Parent Class to look an attribute. This make us use of several classes within the Parent Class. \"\"\""
   ]
  },
  {
   "cell_type": "markdown",
   "metadata": {},
   "source": [
    "3)  How do you distinguish between a class object and an instance object?"
   ]
  },
  {
   "cell_type": "code",
   "execution_count": 4,
   "metadata": {},
   "outputs": [
    {
     "data": {
      "text/plain": [
       "' A class object can be told as an object that belongs to both Parent class or child classes that are delcared within.\\nAn individual object that belongs to certain class is called an instance object'"
      ]
     },
     "execution_count": 4,
     "metadata": {},
     "output_type": "execute_result"
    }
   ],
   "source": [
    "\"\"\" A class object can be told as an object that belongs to both Parent class or child classes that are delcared within.\n",
    "An individual object that belongs to certain class is called an instance object\"\"\""
   ]
  },
  {
   "cell_type": "markdown",
   "metadata": {},
   "source": [
    "4) What makes the first argument in a class’s method function special?\n"
   ]
  },
  {
   "cell_type": "code",
   "execution_count": 5,
   "metadata": {},
   "outputs": [
    {
     "data": {
      "text/plain": [
       "'__init__ is a reseved method in python classes. It is called as a constructor in object oriented programming. This method is called when an object is created from a class and it allows the class to initialize the attributes of the class.\\n    With the help of \"Self\" keyword or any other that is declared first we get the access to the attributes and methods of class'"
      ]
     },
     "execution_count": 5,
     "metadata": {},
     "output_type": "execute_result"
    }
   ],
   "source": [
    "\"\"\"__init__ is a reseved method in python classes. It is called as a constructor in object oriented programming. This method is called when an object is created from a class and it allows the class to initialize the attributes of the class.\n",
    "    With the help of \"Self\" keyword or any other that is declared first we get the access to the attributes and methods of class\"\"\""
   ]
  },
  {
   "cell_type": "markdown",
   "metadata": {},
   "source": [
    "5)What is the purpose of the __init__ method?"
   ]
  },
  {
   "cell_type": "code",
   "execution_count": 6,
   "metadata": {},
   "outputs": [],
   "source": [
    "\"\"\"The __init__ method is similar to constructors in other programming languages.\n",
    "    This helps us to initialize the objects state & assign values to the data members of the class mentioned\"\"\"\n",
    "class persons:\n",
    "    def __init__(self,name,hobby,place):\n",
    "        self.name=name\n",
    "        self.hobby=hobby\n",
    "        self.place=place"
   ]
  },
  {
   "cell_type": "code",
   "execution_count": 7,
   "metadata": {},
   "outputs": [],
   "source": [
    "per1=persons(\"Dattu\",\"Cooking\",\"Guntur\")\n",
    "per2=persons(\"Mommy\",\"Everything\",\"Guntur\")"
   ]
  },
  {
   "cell_type": "code",
   "execution_count": 14,
   "metadata": {},
   "outputs": [
    {
     "data": {
      "text/plain": [
       "'Dattu'"
      ]
     },
     "execution_count": 14,
     "metadata": {},
     "output_type": "execute_result"
    }
   ],
   "source": [
    "per1.name"
   ]
  },
  {
   "cell_type": "markdown",
   "metadata": {},
   "source": [
    "6) What is the process for creating a class instance?\n"
   ]
  },
  {
   "cell_type": "code",
   "execution_count": 15,
   "metadata": {},
   "outputs": [],
   "source": [
    "#To create class instance, we call the class using class name and pass in whatever arguments its __init__ method accepts.\n",
    "class persons:\n",
    "    def __init__(self,name,hobby,place):\n",
    "        self.name=name\n",
    "        self.hobby=hobby\n",
    "        self.place=place\n",
    "per1=persons(\"Dattu\",\"Cooking\",\"Guntur\")\n",
    "per2=persons(\"Mommy\",\"Everything\",\"Guntur\")"
   ]
  },
  {
   "cell_type": "code",
   "execution_count": 16,
   "metadata": {},
   "outputs": [
    {
     "data": {
      "text/plain": [
       "'Mommy'"
      ]
     },
     "execution_count": 16,
     "metadata": {},
     "output_type": "execute_result"
    }
   ],
   "source": [
    "per2.name"
   ]
  },
  {
   "cell_type": "code",
   "execution_count": 17,
   "metadata": {},
   "outputs": [],
   "source": [
    "per3=persons(\"Nanna\",\"Dedication\",\"Guntur\")"
   ]
  },
  {
   "cell_type": "code",
   "execution_count": 18,
   "metadata": {},
   "outputs": [
    {
     "data": {
      "text/plain": [
       "'Dedication'"
      ]
     },
     "execution_count": 18,
     "metadata": {},
     "output_type": "execute_result"
    }
   ],
   "source": [
    "per3.hobby"
   ]
  },
  {
   "cell_type": "markdown",
   "metadata": {},
   "source": [
    "7) What is the process for creating a class?\n"
   ]
  },
  {
   "cell_type": "code",
   "execution_count": 19,
   "metadata": {},
   "outputs": [],
   "source": [
    "#classes are created by keyword class\n",
    "\"\"\"Class creates a user-defined data structure, which holds its own data members and member functions, which can be accessed and used by creating an instance of that class. A class is like a blueprint for an object.\"\"\"\n",
    "class FSDS:\n",
    "    def __init__(self,name,place,experience,college):\n",
    "        self.name=name\n",
    "        self.place=place\n",
    "        self.experience=experience\n",
    "        self.college=college\n",
    "emp1=FSDS(\"Dattu\",\"Banglore\",\"Fresher\",\"NIT Jaipur\")"
   ]
  },
  {
   "cell_type": "code",
   "execution_count": 20,
   "metadata": {},
   "outputs": [
    {
     "data": {
      "text/plain": [
       "'NIT Jaipur'"
      ]
     },
     "execution_count": 20,
     "metadata": {},
     "output_type": "execute_result"
    }
   ],
   "source": [
    "emp1.college"
   ]
  },
  {
   "cell_type": "markdown",
   "metadata": {},
   "source": [
    "8)  How would you define the superclasses of a class?\n"
   ]
  },
  {
   "cell_type": "code",
   "execution_count": 31,
   "metadata": {},
   "outputs": [],
   "source": [
    "#super classes are mentioned in the parentheses of the subclass. so that the subclass can access the attributes of the parent class.\n",
    "class animals:\n",
    "    def parentclass(self):\n",
    "        print(\"This is a parent class or super class\")\n",
    "class Dog(animals):\n",
    "    def bark(self):\n",
    "        print(\"I bark\")\n",
    "class horse(animals):\n",
    "    def run(self):\n",
    "        print(\"I run at a speed of 60 km/hr \")\n",
    "class cheetah(animals):\n",
    "    def run(self):\n",
    "        print(\"I run at a speed of 120 km/hr\")\n",
    "dog=Dog()\n",
    "Horse=horse()\n",
    "Cheetahh=cheetah()"
   ]
  },
  {
   "cell_type": "code",
   "execution_count": 32,
   "metadata": {},
   "outputs": [
    {
     "name": "stdout",
     "output_type": "stream",
     "text": [
      "This is a parent class or super class\n"
     ]
    }
   ],
   "source": [
    "dog.parentclass()"
   ]
  },
  {
   "cell_type": "code",
   "execution_count": 33,
   "metadata": {},
   "outputs": [
    {
     "name": "stdout",
     "output_type": "stream",
     "text": [
      "I bark\n"
     ]
    }
   ],
   "source": [
    "dog.bark()"
   ]
  },
  {
   "cell_type": "code",
   "execution_count": 34,
   "metadata": {},
   "outputs": [
    {
     "name": "stdout",
     "output_type": "stream",
     "text": [
      "I run at a speed of 60 km/hr \n"
     ]
    }
   ],
   "source": [
    "Horse.run()"
   ]
  },
  {
   "cell_type": "code",
   "execution_count": 35,
   "metadata": {},
   "outputs": [
    {
     "name": "stdout",
     "output_type": "stream",
     "text": [
      "This is a parent class or super class\n"
     ]
    }
   ],
   "source": [
    "Horse.parentclass()"
   ]
  },
  {
   "cell_type": "code",
   "execution_count": null,
   "metadata": {},
   "outputs": [],
   "source": []
  }
 ],
 "metadata": {
  "kernelspec": {
   "display_name": "Python 3",
   "language": "python",
   "name": "python3"
  },
  "language_info": {
   "codemirror_mode": {
    "name": "ipython",
    "version": 3
   },
   "file_extension": ".py",
   "mimetype": "text/x-python",
   "name": "python",
   "nbconvert_exporter": "python",
   "pygments_lexer": "ipython3",
   "version": "3.8.3"
  }
 },
 "nbformat": 4,
 "nbformat_minor": 4
}
