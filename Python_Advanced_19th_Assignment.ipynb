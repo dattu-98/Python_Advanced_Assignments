{
 "cells": [
  {
   "cell_type": "markdown",
   "metadata": {},
   "source": [
    "1) Define the relationship between a class and its instances. Is it a one-to-one or a one-to-many partnership, for example?\n"
   ]
  },
  {
   "cell_type": "code",
   "execution_count": 1,
   "metadata": {},
   "outputs": [],
   "source": [
    "#Class is a set of entities which are called instances of class.\n",
    "#There exists a one to many partnership"
   ]
  },
  {
   "cell_type": "markdown",
   "metadata": {},
   "source": [
    "2) What kind of data is held only in an instance?\n"
   ]
  },
  {
   "cell_type": "code",
   "execution_count": 2,
   "metadata": {},
   "outputs": [],
   "source": [
    "#Instances can be of any type. It can be int, string, boolean, float.\n",
    "#once we define a varible with some value later we can manipulate it with the help of conditions and statements"
   ]
  },
  {
   "cell_type": "markdown",
   "metadata": {},
   "source": [
    "3) What kind of knowledge is stored in a class?\n"
   ]
  },
  {
   "cell_type": "code",
   "execution_count": 3,
   "metadata": {},
   "outputs": [],
   "source": [
    "#In class we define functions and variables. For each application we can define individual function and access though the class object\n",
    "#We can implement the concept of OOPS for better performance and code reusability.\n",
    "#By following certain conditions with OOPS we get the most of it"
   ]
  },
  {
   "cell_type": "markdown",
   "metadata": {},
   "source": [
    "4) What exactly is a method, and how is it different from a regular function?\n"
   ]
  },
  {
   "cell_type": "code",
   "execution_count": 4,
   "metadata": {},
   "outputs": [],
   "source": [
    "#Function is defined as a set of instructions to perform a task\n",
    "#Method is group of instructions that are associated with an object\n",
    "a=\"DATTU\"\n",
    "a.lower()\n",
    "def low(a):\n",
    "    return a.lower()"
   ]
  },
  {
   "cell_type": "code",
   "execution_count": 5,
   "metadata": {},
   "outputs": [
    {
     "data": {
      "text/plain": [
       "'dattu'"
      ]
     },
     "execution_count": 5,
     "metadata": {},
     "output_type": "execute_result"
    }
   ],
   "source": [
    "low(a)"
   ]
  },
  {
   "cell_type": "code",
   "execution_count": 6,
   "metadata": {},
   "outputs": [
    {
     "data": {
      "text/plain": [
       "'dattu'"
      ]
     },
     "execution_count": 6,
     "metadata": {},
     "output_type": "execute_result"
    }
   ],
   "source": [
    "a.lower()"
   ]
  },
  {
   "cell_type": "markdown",
   "metadata": {},
   "source": [
    "5) Is inheritance supported in Python, and if so, what is the syntax?\n"
   ]
  },
  {
   "cell_type": "code",
   "execution_count": 7,
   "metadata": {},
   "outputs": [],
   "source": [
    "#Yes, Inheritance is supported in python\n",
    "#Inheritance is the capability of one class to derive or inherit the properties from another class\n",
    "#kits is parent class, kits_cse is child class\n",
    "class kits:\n",
    "    def __init__(self,strength):\n",
    "        self.strength=strength\n",
    "    def strength(self):\n",
    "        return self.strength\n",
    "class kits_cse(kits):\n",
    "    def strength_cse(self):\n",
    "        intake=500\n",
    "        return intake "
   ]
  },
  {
   "cell_type": "code",
   "execution_count": 8,
   "metadata": {},
   "outputs": [],
   "source": [
    "kitscse=kits_cse(2500)"
   ]
  },
  {
   "cell_type": "code",
   "execution_count": 9,
   "metadata": {},
   "outputs": [
    {
     "data": {
      "text/plain": [
       "500"
      ]
     },
     "execution_count": 9,
     "metadata": {},
     "output_type": "execute_result"
    }
   ],
   "source": [
    "kitscse.strength_cse()"
   ]
  },
  {
   "cell_type": "code",
   "execution_count": 10,
   "metadata": {},
   "outputs": [
    {
     "data": {
      "text/plain": [
       "2500"
      ]
     },
     "execution_count": 10,
     "metadata": {},
     "output_type": "execute_result"
    }
   ],
   "source": [
    "kitscse.strength"
   ]
  },
  {
   "cell_type": "markdown",
   "metadata": {},
   "source": [
    "6)  How much encapsulation (making instance or class variables private) does Python support?\n"
   ]
  },
  {
   "cell_type": "code",
   "execution_count": 11,
   "metadata": {},
   "outputs": [],
   "source": [
    "#We canresstrict access to methods and variables by mentioning the prefix _ and __\n",
    "class company:\n",
    "    def __init__(self):\n",
    "        self.__salary=30000\n",
    "    def set_basic(self,salary):\n",
    "        self.__salary=salary\n",
    "    def credit(self):\n",
    "        print(\"The basic salary is:\",self.__salary)"
   ]
  },
  {
   "cell_type": "code",
   "execution_count": 12,
   "metadata": {},
   "outputs": [],
   "source": [
    "#Though we can make the variables private we can use a setter function and change the value of the variable"
   ]
  },
  {
   "cell_type": "code",
   "execution_count": 13,
   "metadata": {},
   "outputs": [],
   "source": [
    "itc=company()"
   ]
  },
  {
   "cell_type": "code",
   "execution_count": 14,
   "metadata": {},
   "outputs": [
    {
     "name": "stdout",
     "output_type": "stream",
     "text": [
      "The basic salary is: 30000\n"
     ]
    }
   ],
   "source": [
    "itc.credit()"
   ]
  },
  {
   "cell_type": "code",
   "execution_count": 15,
   "metadata": {},
   "outputs": [
    {
     "name": "stdout",
     "output_type": "stream",
     "text": [
      "The basic salary is: 45000\n"
     ]
    }
   ],
   "source": [
    "itc.set_basic(45000)\n",
    "itc.credit()"
   ]
  },
  {
   "cell_type": "markdown",
   "metadata": {},
   "source": [
    "7) How do you distinguish between a class variable and an instance variable?\n"
   ]
  },
  {
   "cell_type": "code",
   "execution_count": 16,
   "metadata": {},
   "outputs": [],
   "source": [
    "#Class variables can only be changed or assigned when a class has been defined.\n",
    "#where as instance variable is not like that it is independent of class\n",
    "#Instance variables are declared outside the class, where as class variable are declared inside the class"
   ]
  },
  {
   "cell_type": "markdown",
   "metadata": {},
   "source": [
    "8) When, if ever, can self be included in a class's method definitions?"
   ]
  },
  {
   "cell_type": "code",
   "execution_count": 17,
   "metadata": {},
   "outputs": [],
   "source": [
    "#self represents the instance of the class. By using the self keyword we can access the attributes and methods of the class in python\n",
    "#self is not a keyword it is a naming convention, we can use anything behalf of it.\n",
    "#without self we can't access the variables"
   ]
  },
  {
   "cell_type": "markdown",
   "metadata": {},
   "source": [
    "9) What is the difference between the _ _add_ _ and the _ _radd_ _ methods?\n"
   ]
  },
  {
   "cell_type": "code",
   "execution_count": 18,
   "metadata": {},
   "outputs": [
    {
     "data": {
      "text/plain": [
       "25"
      ]
     },
     "execution_count": 18,
     "metadata": {},
     "output_type": "execute_result"
    }
   ],
   "source": [
    "#Both are operator overloading methods where _add_ is instance+non-instance\n",
    "#_radd_ is non-instance + instance\n",
    "#We can implement a left,right and inplace variant\n",
    "class ineur:\n",
    "    def __init__(self,val1):\n",
    "        self.val1=val1\n",
    "    def __add__(self,val2):\n",
    "        return self.val1+val2\n",
    "x=ineur(10)\n",
    "x+15"
   ]
  },
  {
   "cell_type": "code",
   "execution_count": 19,
   "metadata": {},
   "outputs": [
    {
     "data": {
      "text/plain": [
       "25"
      ]
     },
     "execution_count": 19,
     "metadata": {},
     "output_type": "execute_result"
    }
   ],
   "source": [
    "class ineur1:\n",
    "    def __init__(self,val1):\n",
    "        self.val1=val1\n",
    "    def __radd__(self,val2):\n",
    "        return val2+self.val1\n",
    "x=ineur1(10)\n",
    "15+x"
   ]
  },
  {
   "cell_type": "markdown",
   "metadata": {},
   "source": [
    "10) When is it necessary to use a reflection method? When do you not need it, even though you support the operation in question?\n"
   ]
  },
  {
   "cell_type": "code",
   "execution_count": 20,
   "metadata": {},
   "outputs": [],
   "source": [
    "#Reflection refers to ability to code and examine attributes about objects that might be passed as parameters to a function\n",
    "#using reflection we can write one reverse function that will able to work with strings, lists and others"
   ]
  },
  {
   "cell_type": "markdown",
   "metadata": {},
   "source": [
    "11) What is the _ _iadd_ _ method called?\n"
   ]
  },
  {
   "cell_type": "code",
   "execution_count": 21,
   "metadata": {},
   "outputs": [],
   "source": [
    "#To implement += in-place augemented addition we use __iadd__ in the method\n",
    "#__iadd__ stores the value its adding into the self.a\n",
    "class ineur2:\n",
    "    def __init__(self,a):\n",
    "        self.a=a\n",
    "    def __iadd__(self,b):\n",
    "        self.a = self + b\n",
    "        return self.a"
   ]
  },
  {
   "cell_type": "markdown",
   "metadata": {},
   "source": [
    "12)  Is the _ _init_ _ method inherited by subclasses? What do you do if you need to customize its behavior within a subclass?\n"
   ]
  },
  {
   "cell_type": "code",
   "execution_count": 22,
   "metadata": {},
   "outputs": [],
   "source": [
    "#Yes __init__ method can be inherited and using __init__ if we call the child class. Then the parent class constructor can also be called.\n",
    "#Firstly parent class is called and then the child class is called"
   ]
  },
  {
   "cell_type": "code",
   "execution_count": null,
   "metadata": {},
   "outputs": [],
   "source": []
  }
 ],
 "metadata": {
  "kernelspec": {
   "display_name": "Python 3",
   "language": "python",
   "name": "python3"
  },
  "language_info": {
   "codemirror_mode": {
    "name": "ipython",
    "version": 3
   },
   "file_extension": ".py",
   "mimetype": "text/x-python",
   "name": "python",
   "nbconvert_exporter": "python",
   "pygments_lexer": "ipython3",
   "version": "3.8.3"
  }
 },
 "nbformat": 4,
 "nbformat_minor": 4
}
