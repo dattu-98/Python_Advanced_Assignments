{
 "cells": [
  {
   "cell_type": "markdown",
   "metadata": {},
   "source": [
    "1) What is the relationship between classes and modules?\n"
   ]
  },
  {
   "cell_type": "code",
   "execution_count": 1,
   "metadata": {},
   "outputs": [],
   "source": [
    "\"\"\"Module consists of Methods, Classes, functions, Constants etc.. Class can be Instantiated where as Module can't be instantiated.\n",
    "Modules are imported using import keyword\n",
    "Functions are part of classes. If we declare several functions in the class we can access through the class.\"\"\"\n",
    "#module math is imported\n",
    "import math"
   ]
  },
  {
   "cell_type": "markdown",
   "metadata": {},
   "source": [
    "2) How do you make instances and classes?\n"
   ]
  },
  {
   "cell_type": "code",
   "execution_count": 2,
   "metadata": {},
   "outputs": [],
   "source": [
    "class FSDS:\n",
    "    def __init__(self,name,place,experience,college):\n",
    "        self.name=name\n",
    "        self.place=place\n",
    "        self.experience=experience\n",
    "        self.college=college\n",
    "emp1=FSDS(\"Dattu\",\"Banglore\",\"Fresher\",\"NIT Jaipur\")"
   ]
  },
  {
   "cell_type": "code",
   "execution_count": 3,
   "metadata": {},
   "outputs": [
    {
     "data": {
      "text/plain": [
       "'NIT Jaipur'"
      ]
     },
     "execution_count": 3,
     "metadata": {},
     "output_type": "execute_result"
    }
   ],
   "source": [
    "emp1.college"
   ]
  },
  {
   "cell_type": "code",
   "execution_count": 4,
   "metadata": {},
   "outputs": [],
   "source": [
    "emp2=FSDS(\"Pratyusha\",\"London\",\"6\",\"Amrita\")"
   ]
  },
  {
   "cell_type": "code",
   "execution_count": 5,
   "metadata": {},
   "outputs": [
    {
     "data": {
      "text/plain": [
       "'6'"
      ]
     },
     "execution_count": 5,
     "metadata": {},
     "output_type": "execute_result"
    }
   ],
   "source": [
    "emp2.experience"
   ]
  },
  {
   "cell_type": "code",
   "execution_count": 7,
   "metadata": {},
   "outputs": [
    {
     "name": "stdout",
     "output_type": "stream",
     "text": [
      "<__main__.FSDS object at 0x000002866438F100>\n",
      "<__main__.FSDS object at 0x00000286643A7EE0>\n"
     ]
    }
   ],
   "source": [
    "#Both have different location in the memory\n",
    "print(emp1)\n",
    "print(emp2)"
   ]
  },
  {
   "cell_type": "markdown",
   "metadata": {},
   "source": [
    "3) Where and how should be class attributes created?\n"
   ]
  },
  {
   "cell_type": "code",
   "execution_count": 8,
   "metadata": {},
   "outputs": [],
   "source": [
    "#objects have the access to class attributes whether it is instantaniated or not\n",
    "class myclass:\n",
    "    #Class attributes\n",
    "    mycourse= \"Full Stack Data Science\"\n",
    "    #Instance attributes\n",
    "    def __init__(self,student_name,Joining_date):\n",
    "        self.student_name=student_name\n",
    "        self.Joining_date=Joining_date\n",
    "stu1=myclass(\"Dattu\",\"20-03-2021\")"
   ]
  },
  {
   "cell_type": "code",
   "execution_count": 9,
   "metadata": {},
   "outputs": [
    {
     "data": {
      "text/plain": [
       "'Full Stack Data Science'"
      ]
     },
     "execution_count": 9,
     "metadata": {},
     "output_type": "execute_result"
    }
   ],
   "source": [
    "stu1.mycourse"
   ]
  },
  {
   "cell_type": "code",
   "execution_count": 10,
   "metadata": {},
   "outputs": [
    {
     "data": {
      "text/plain": [
       "'20-03-2021'"
      ]
     },
     "execution_count": 10,
     "metadata": {},
     "output_type": "execute_result"
    }
   ],
   "source": [
    "stu1.Joining_date"
   ]
  },
  {
   "cell_type": "code",
   "execution_count": 11,
   "metadata": {},
   "outputs": [
    {
     "data": {
      "text/plain": [
       "'Dattu'"
      ]
     },
     "execution_count": 11,
     "metadata": {},
     "output_type": "execute_result"
    }
   ],
   "source": [
    "stu1.student_name"
   ]
  },
  {
   "cell_type": "markdown",
   "metadata": {},
   "source": [
    "4) Where and how are instance attributes created?\n"
   ]
  },
  {
   "cell_type": "code",
   "execution_count": 12,
   "metadata": {},
   "outputs": [],
   "source": [
    "class myclass:\n",
    "    #Class attributes\n",
    "    mycourse= \"Full Stack Data Science\"\n",
    "    #Instance attributes\n",
    "    def __init__(self,student_name,Joining_date,college,location):\n",
    "        self.student_name=student_name\n",
    "        self.Joining_date=Joining_date\n",
    "        self.college=college\n",
    "        self.location=location\n",
    "stu1=myclass(\"Dattu\",\"20-03-2021\",\"NIT Jaipur\",\"Hyderabad\")"
   ]
  },
  {
   "cell_type": "code",
   "execution_count": 15,
   "metadata": {},
   "outputs": [
    {
     "name": "stdout",
     "output_type": "stream",
     "text": [
      "NIT Jaipur\n",
      "Hyderabad\n",
      "20-03-2021\n",
      "Dattu\n"
     ]
    }
   ],
   "source": [
    "print(stu1.college)\n",
    "print(stu1.location)\n",
    "print(stu1.Joining_date)\n",
    "print(stu1.student_name)"
   ]
  },
  {
   "cell_type": "markdown",
   "metadata": {},
   "source": [
    "5) What does the term \"self\" in a Python class mean?\n"
   ]
  },
  {
   "cell_type": "code",
   "execution_count": 16,
   "metadata": {},
   "outputs": [
    {
     "data": {
      "text/plain": [
       "\"Self represents the instancing of the class. 'Self' acts as a keyword that can access the attrbutes of the class\""
      ]
     },
     "execution_count": 16,
     "metadata": {},
     "output_type": "execute_result"
    }
   ],
   "source": [
    "\"\"\"Self represents the instancing of the class. 'Self' acts as a keyword that can access the attrbutes of the class\"\"\"\n"
   ]
  },
  {
   "cell_type": "markdown",
   "metadata": {},
   "source": [
    "6) How does a Python class handle operator overloading?\n"
   ]
  },
  {
   "cell_type": "code",
   "execution_count": 18,
   "metadata": {},
   "outputs": [
    {
     "name": "stdout",
     "output_type": "stream",
     "text": [
      "3\n"
     ]
    }
   ],
   "source": [
    "\"\"\"Python operators work for built in classes. But the same operator behaves differently when we use the operator with objects. It returns TypeError in that case\"\"\"\n",
    "class something:\n",
    "    def __init__(self,a):\n",
    "        self.a=a\n",
    "    def __add__(self,b):\n",
    "        return self.a+b.a\n",
    "num1=something(1)\n",
    "num2=something(2)\n",
    "print(num1+num2)"
   ]
  },
  {
   "cell_type": "markdown",
   "metadata": {},
   "source": [
    "7) When do you consider allowing operator overloading of your classes?"
   ]
  },
  {
   "cell_type": "code",
   "execution_count": 19,
   "metadata": {},
   "outputs": [
    {
     "data": {
      "text/plain": [
       "'When the python does not recognizes the operator we use, then we can use the operator overloading.\\nThis feature in python that allows the same operator to have different meaning according to the context is called operator overloading\\nWith the help of Operator magic method where comparison, Arithmetic, Assignment, Unary operators.'"
      ]
     },
     "execution_count": 19,
     "metadata": {},
     "output_type": "execute_result"
    }
   ],
   "source": [
    "\"\"\"When the python does not recognizes the operator we use, then we can use the operator overloading.\n",
    "This feature in python that allows the same operator to have different meaning according to the context is called operator overloading\n",
    "With the help of Operator magic method where comparison, Arithmetic, Assignment, Unary operators.\"\"\""
   ]
  },
  {
   "cell_type": "markdown",
   "metadata": {},
   "source": [
    "8) What is the most popular form of operator overloading?"
   ]
  },
  {
   "cell_type": "code",
   "execution_count": 20,
   "metadata": {},
   "outputs": [
    {
     "data": {
      "text/plain": [
       "'1) Arithmetic\\n2) Comparison\\n3) Assignment\\n4) Unary'"
      ]
     },
     "execution_count": 20,
     "metadata": {},
     "output_type": "execute_result"
    }
   ],
   "source": [
    "\"\"\"1) Arithmetic\n",
    "2) Comparison\n",
    "3) Assignment\n",
    "4) Unary\"\"\""
   ]
  },
  {
   "cell_type": "markdown",
   "metadata": {},
   "source": [
    "9) What are the two most important concepts to grasp in order to comprehend Python OOP code?"
   ]
  },
  {
   "cell_type": "code",
   "execution_count": null,
   "metadata": {},
   "outputs": [],
   "source": [
    "\"\"\"Most important comcepts are\n",
    "1) Inheritance\n",
    "2) Encapsulation\n",
    "3) Polymorphism\n",
    "4) Da\"\"\""
   ]
  }
 ],
 "metadata": {
  "kernelspec": {
   "display_name": "Python 3",
   "language": "python",
   "name": "python3"
  },
  "language_info": {
   "codemirror_mode": {
    "name": "ipython",
    "version": 3
   },
   "file_extension": ".py",
   "mimetype": "text/x-python",
   "name": "python",
   "nbconvert_exporter": "python",
   "pygments_lexer": "ipython3",
   "version": "3.8.3"
  }
 },
 "nbformat": 4,
 "nbformat_minor": 4
}
