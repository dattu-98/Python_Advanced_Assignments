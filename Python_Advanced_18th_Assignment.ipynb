{
 "cells": [
  {
   "cell_type": "markdown",
   "metadata": {},
   "source": [
    "1) Describe the differences between text and binary files in a single paragraph.\n"
   ]
  },
  {
   "cell_type": "markdown",
   "metadata": {},
   "source": [
    "> * Text files stores data in the form of alphabets, digits & other special symbols using their ASCII values and these can be understood by Humans\n",
    "* Where as Bianry file contains a sequence or collection of butes which can't be understood by humans"
   ]
  },
  {
   "cell_type": "markdown",
   "metadata": {},
   "source": [
    "2) What are some scenarios where using text files will be the better option? When would you like to use binary files instead of text files?\n",
    "\n"
   ]
  },
  {
   "cell_type": "markdown",
   "metadata": {},
   "source": [
    "> * Binary files use less memory and more efficient & fast storing the values using standards.\n",
    "* If we want to read the data later then we need to save or write in text format\n",
    "* If it is an application which we use on top of certain code then it is good to save in binary file format\n",
    "* Both have its own unique applications"
   ]
  },
  {
   "cell_type": "markdown",
   "metadata": {},
   "source": [
    "3) What are some of the issues with using binary operations to read and write a Python integer directly to disc?"
   ]
  },
  {
   "cell_type": "code",
   "execution_count": 1,
   "metadata": {},
   "outputs": [],
   "source": [
    "#Different operators such as AND,OR,XOR,NAND,NOR,NXOR are used and there may be problems occuring such as Disk Drive is unable to write to disc\n",
    "#It is due to many troubles facing while writing the data into disc"
   ]
  },
  {
   "cell_type": "markdown",
   "metadata": {},
   "source": [
    "4) . Describe a benefit of using the with keyword instead of explicitly opening a file."
   ]
  },
  {
   "cell_type": "code",
   "execution_count": 2,
   "metadata": {},
   "outputs": [],
   "source": [
    "#Using with keyword we can open the file and manipulate the data in the file.\n",
    "#It implements an automatic cleanup and file will be closed as soon as we leave the block"
   ]
  },
  {
   "cell_type": "markdown",
   "metadata": {},
   "source": [
    "5) . Does Python have the trailing newline while reading a line of text? Does Python append a newline when you write a line of text?\n"
   ]
  },
  {
   "cell_type": "code",
   "execution_count": 3,
   "metadata": {},
   "outputs": [],
   "source": [
    "#Yes python has the trailing newline when we move to new line \\n is appended.\n",
    "#No it does not write by default in new line. We need to mention \\n explicitly to get the text in new line"
   ]
  },
  {
   "cell_type": "markdown",
   "metadata": {},
   "source": [
    "6)  What file operations enable for random-access operation?\n"
   ]
  },
  {
   "cell_type": "code",
   "execution_count": 4,
   "metadata": {},
   "outputs": [],
   "source": [
    "#File open object supports random access operator by passing \"rb\" while opening the file\n",
    "#It opens the file and reads in binary format\n",
    "#As long as it is in binary format we can perform random access operations"
   ]
  },
  {
   "cell_type": "markdown",
   "metadata": {},
   "source": [
    "7) When do you think you'll use the struct package the most?"
   ]
  },
  {
   "cell_type": "code",
   "execution_count": 5,
   "metadata": {},
   "outputs": [],
   "source": [
    "#Struct module is used to convert native python data types such as strings and numbers to bytes and viceversa\n",
    "#It is used for handling binary data stored files or from network connections\n",
    "#There are several built in functions available in struct module"
   ]
  },
  {
   "cell_type": "markdown",
   "metadata": {},
   "source": [
    "8)  When is pickling the best option?\n"
   ]
  },
  {
   "cell_type": "code",
   "execution_count": 6,
   "metadata": {},
   "outputs": [],
   "source": [
    "#It is used in serializing and deserializing a python object structure.\n",
    "#Convertion of python object to byte stream to store in a file\n",
    "#Pickling is better if we dont need a human readable format or a standard interoperable format"
   ]
  },
  {
   "cell_type": "markdown",
   "metadata": {},
   "source": [
    "9) When will it be best to use the shelve package?\n"
   ]
  },
  {
   "cell_type": "code",
   "execution_count": 7,
   "metadata": {},
   "outputs": [],
   "source": [
    "#Shelve module implements persistent storage for arbitary python objects which can be pickled using dictionary like API\n",
    "#It can be used as simple storage option for python objects when a relation database is overkill"
   ]
  },
  {
   "cell_type": "markdown",
   "metadata": {},
   "source": [
    "10) What is a special restriction when using the shelve package, as opposed to using other data dictionaries?\n"
   ]
  },
  {
   "cell_type": "code",
   "execution_count": 8,
   "metadata": {},
   "outputs": [],
   "source": [
    "#For storing a larger dictionaries key value pairs shelveis not recommended because its not efficient"
   ]
  },
  {
   "cell_type": "code",
   "execution_count": null,
   "metadata": {},
   "outputs": [],
   "source": []
  }
 ],
 "metadata": {
  "kernelspec": {
   "display_name": "Python 3",
   "language": "python",
   "name": "python3"
  },
  "language_info": {
   "codemirror_mode": {
    "name": "ipython",
    "version": 3
   },
   "file_extension": ".py",
   "mimetype": "text/x-python",
   "name": "python",
   "nbconvert_exporter": "python",
   "pygments_lexer": "ipython3",
   "version": "3.8.3"
  }
 },
 "nbformat": 4,
 "nbformat_minor": 4
}
