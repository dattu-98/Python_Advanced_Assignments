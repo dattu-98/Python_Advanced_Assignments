{
 "cells": [
  {
   "cell_type": "markdown",
   "metadata": {},
   "source": [
    "1) What is the benefit of regular expressions?\n"
   ]
  },
  {
   "cell_type": "markdown",
   "metadata": {},
   "source": [
    "> * It is used to validate any kind of user input\n",
    "* Regular Expressions are used in any programming languages with same expressions\n",
    "* Validation is fast with the help of Regex Expression"
   ]
  },
  {
   "cell_type": "markdown",
   "metadata": {},
   "source": [
    "2) Describe the difference between the effects of \"(ab)c+\" and \"a(bc)+.\" Which of these, if any, is the unqualified pattern \"abc+\"?\n",
    "\n"
   ]
  },
  {
   "cell_type": "code",
   "execution_count": 1,
   "metadata": {},
   "outputs": [
    {
     "name": "stdout",
     "output_type": "stream",
     "text": [
      "['ab']\n"
     ]
    }
   ],
   "source": [
    "#() it captures the group with in\n",
    "import re\n",
    "sentence=\"abcsolutely and bcerd\"\n",
    "x=re.findall(\"(ab)c+\",sentence)\n",
    "print(x)"
   ]
  },
  {
   "cell_type": "code",
   "execution_count": 2,
   "metadata": {},
   "outputs": [
    {
     "name": "stdout",
     "output_type": "stream",
     "text": [
      "['bc']\n"
     ]
    }
   ],
   "source": [
    "sentence=\"abcsolutely and bcerd\"\n",
    "x=re.findall(\"a(bc)\",sentence)\n",
    "print(x)"
   ]
  },
  {
   "cell_type": "code",
   "execution_count": 3,
   "metadata": {},
   "outputs": [
    {
     "name": "stdout",
     "output_type": "stream",
     "text": [
      "['abc']\n"
     ]
    }
   ],
   "source": [
    "sen2=\"hsabce\"\n",
    "x=re.findall(\"abc\",sen2)\n",
    "print(x)"
   ]
  },
  {
   "cell_type": "markdown",
   "metadata": {},
   "source": [
    "3) How much do you need to use the following sentence while using regular expressions?"
   ]
  },
  {
   "cell_type": "code",
   "execution_count": 4,
   "metadata": {},
   "outputs": [],
   "source": [
    "import re"
   ]
  },
  {
   "cell_type": "markdown",
   "metadata": {},
   "source": [
    "4) Which characters have special significance in square brackets when expressing a range, and under what circumstances?\n",
    "\n"
   ]
  },
  {
   "cell_type": "code",
   "execution_count": 5,
   "metadata": {},
   "outputs": [],
   "source": [
    "#when mentioning in square brackets the characters like ^,$,-,+,\\ have special sequence"
   ]
  },
  {
   "cell_type": "markdown",
   "metadata": {},
   "source": [
    "5)  How does compiling a regular-expression object benefit you?\n"
   ]
  },
  {
   "cell_type": "code",
   "execution_count": 6,
   "metadata": {},
   "outputs": [],
   "source": [
    "#By compiling the regex pattern we can reuse the object as pattern for several other verification purposes.\n",
    "#More reusability and More efficient"
   ]
  },
  {
   "cell_type": "markdown",
   "metadata": {},
   "source": [
    "6) What are some examples of how to use the match object returned by re.match and re.search?\n"
   ]
  },
  {
   "cell_type": "code",
   "execution_count": 7,
   "metadata": {},
   "outputs": [
    {
     "name": "stdout",
     "output_type": "stream",
     "text": [
      "sentence1: None\n",
      "sentence2: <re.Match object; span=(32, 39), match='iNeuron'>\n",
      "sentence1: None\n",
      "sentence2: None\n"
     ]
    }
   ],
   "source": [
    "#Both the functions search for a substring in a string and returns a match object if the substring is found\n",
    "sen1=\"I am doing my M.Tech from NIT Jaipur\"\n",
    "sen2=\"I am learning Data Science from iNeuron and online portals\"\n",
    "substring=\"iNeuron\"\n",
    "print(\"sentence1:\",re.search(substring,sen1,re.IGNORECASE))\n",
    "print(\"sentence2:\",re.search(substring,sen2,re.IGNORECASE))\n",
    "print(\"sentence1:\",re.match(substring,sen1,re.IGNORECASE))\n",
    "print(\"sentence2:\",re.match(substring,sen2,re.IGNORECASE))"
   ]
  },
  {
   "cell_type": "code",
   "execution_count": 8,
   "metadata": {},
   "outputs": [
    {
     "name": "stdout",
     "output_type": "stream",
     "text": [
      "sentence1: <re.Match object; span=(0, 7), match='iNeuron'>\n"
     ]
    }
   ],
   "source": [
    "#re.match returns object if it is found in the beginning of the string\n",
    "sen1=\"iNeuron is good\"\n",
    "print(\"sentence1:\",re.match(substring,sen1,re.IGNORECASE))"
   ]
  },
  {
   "cell_type": "markdown",
   "metadata": {},
   "source": [
    "7)  What is the difference between using a vertical bar (|) as an alteration and using square brackets as a character set?\n",
    "\n"
   ]
  },
  {
   "cell_type": "code",
   "execution_count": 9,
   "metadata": {},
   "outputs": [
    {
     "name": "stdout",
     "output_type": "stream",
     "text": [
      "['b', 'bad']\n"
     ]
    }
   ],
   "source": [
    "pattern=re.compile(\"(bad|b)\")\n",
    "print(pattern.findall(\"a is good or b is bad\"))"
   ]
  },
  {
   "cell_type": "code",
   "execution_count": 10,
   "metadata": {},
   "outputs": [
    {
     "name": "stdout",
     "output_type": "stream",
     "text": [
      "['a', 'd', 'b', 'b', 'a', 'd']\n"
     ]
    }
   ],
   "source": [
    "pattern=re.compile(\"[bad|b]\")\n",
    "print(pattern.findall(\"a is good or b is bad\"))"
   ]
  },
  {
   "cell_type": "code",
   "execution_count": 11,
   "metadata": {},
   "outputs": [],
   "source": [
    "# [] denotes a character class it returns individual alphabets "
   ]
  },
  {
   "cell_type": "markdown",
   "metadata": {},
   "source": [
    "8)  In regular-expression search patterns, why is it necessary to use the raw-string indicator (r)? In   replacement strings?\n",
    "\n"
   ]
  },
  {
   "cell_type": "code",
   "execution_count": 12,
   "metadata": {},
   "outputs": [],
   "source": [
    "#By placing r in front of string it creates a raw string indicator. They do not compile the escape charcters in the pattern.\n",
    "#Or else we need to use two back slashes without use of raw string indicator.\n",
    "#It will be much more easier to understand the regex pattern with use of raw string indicator"
   ]
  },
  {
   "cell_type": "code",
   "execution_count": null,
   "metadata": {},
   "outputs": [],
   "source": []
  }
 ],
 "metadata": {
  "kernelspec": {
   "display_name": "Python 3",
   "language": "python",
   "name": "python3"
  },
  "language_info": {
   "codemirror_mode": {
    "name": "ipython",
    "version": 3
   },
   "file_extension": ".py",
   "mimetype": "text/x-python",
   "name": "python",
   "nbconvert_exporter": "python",
   "pygments_lexer": "ipython3",
   "version": "3.8.3"
  }
 },
 "nbformat": 4,
 "nbformat_minor": 4
}
